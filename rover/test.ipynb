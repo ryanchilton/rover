{
 "cells": [
  {
   "cell_type": "code",
   "execution_count": 1,
   "id": "32ea0ac5",
   "metadata": {},
   "outputs": [
    {
     "name": "stdout",
     "output_type": "stream",
     "text": [
      "constructed motor\n",
      "constructed motor\n",
      "constructed motor\n",
      "constructed motor\n",
      "constructed platform\n"
     ]
    }
   ],
   "source": [
    "import time\n",
    "import math\n",
    "import mecanum_platform as pf\n",
    "from ipywidgets import interact, interactive, fixed, interact_manual\n",
    "import ipywidgets as widgets\n",
    "\n",
    "platform = pf.MecanumPlatform()"
   ]
  },
  {
   "cell_type": "code",
   "execution_count": 2,
   "id": "ac1cc2fc",
   "metadata": {},
   "outputs": [
    {
     "data": {
      "application/vnd.jupyter.widget-view+json": {
       "model_id": "08be28476c8c44c3a1c0714abae99787",
       "version_major": 2,
       "version_minor": 0
      },
      "text/plain": [
       "interactive(children=(FloatSlider(value=0.0, description='rotation', max=1.0, min=-1.0), Output()), _dom_class…"
      ]
     },
     "metadata": {},
     "output_type": "display_data"
    },
    {
     "data": {
      "application/vnd.jupyter.widget-view+json": {
       "model_id": "be2dad5072114ce18beea53bc987a218",
       "version_major": 2,
       "version_minor": 0
      },
      "text/plain": [
       "interactive(children=(FloatSlider(value=0.0, description='rotational_effort', max=1.0, min=-1.0), FloatSlider(…"
      ]
     },
     "metadata": {},
     "output_type": "display_data"
    }
   ],
   "source": [
    "@interact(rotation = (-1.0, 1.0, 0.1))\n",
    "def rotate(rotation):\n",
    "    platform.rotate(rotation)\n",
    "    \n",
    "@interact(rotational_effort = (-1.0, 1.0, 0.1), linear_effort = (-1.0, 1.0, 0.1), angle_deg = (-180,180,10))\n",
    "def move(rotational_effort, linear_effort, angle_deg):\n",
    "    angle_rad = angle_deg * math.pi/180.0\n",
    "    platform.twist(linear_direction = angle_rad, linear_effort = linear_effort, rotational_effort = rotational_effort)\n",
    "    \n",
    "    \n",
    "\n"
   ]
  }
 ],
 "metadata": {
  "kernelspec": {
   "display_name": "Python 3",
   "language": "python",
   "name": "python3"
  },
  "language_info": {
   "codemirror_mode": {
    "name": "ipython",
    "version": 3
   },
   "file_extension": ".py",
   "mimetype": "text/x-python",
   "name": "python",
   "nbconvert_exporter": "python",
   "pygments_lexer": "ipython3",
   "version": "3.6.9"
  }
 },
 "nbformat": 4,
 "nbformat_minor": 5
}
