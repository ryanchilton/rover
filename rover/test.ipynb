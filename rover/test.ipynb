{
 "cells": [
  {
   "cell_type": "code",
   "execution_count": 16,
   "id": "32ea0ac5",
   "metadata": {},
   "outputs": [],
   "source": [
    "import time\n",
    "import math\n",
    "from Platform import Platform\n",
    "from ipywidgets import interact, interactive, fixed, interact_manual\n",
    "import ipywidgets as widgets"
   ]
  },
  {
   "cell_type": "code",
   "execution_count": 7,
   "id": "faee1654",
   "metadata": {},
   "outputs": [
    {
     "name": "stdout",
     "output_type": "stream",
     "text": [
      "constructed motor\n",
      "constructed motor\n",
      "constructed motor\n",
      "constructed motor\n",
      "constructed platform\n"
     ]
    }
   ],
   "source": [
    "platform = Platform()"
   ]
  },
  {
   "cell_type": "code",
   "execution_count": 4,
   "id": "ec752a0f",
   "metadata": {},
   "outputs": [],
   "source": [
    "platform.rotate(0.4)\n",
    "time.sleep(1)\n",
    "platform.stop()"
   ]
  },
  {
   "cell_type": "code",
   "execution_count": 20,
   "id": "ac1cc2fc",
   "metadata": {},
   "outputs": [
    {
     "data": {
      "application/vnd.jupyter.widget-view+json": {
       "model_id": "cf5dca029105406bbfdb047afec1eab3",
       "version_major": 2,
       "version_minor": 0
      },
      "text/plain": [
       "interactive(children=(FloatSlider(value=0.0, description='rotation', max=1.0, min=-1.0), Output()), _dom_class…"
      ]
     },
     "metadata": {},
     "output_type": "display_data"
    },
    {
     "data": {
      "application/vnd.jupyter.widget-view+json": {
       "model_id": "9180a581400d4b24b1d77d5d3805599a",
       "version_major": 2,
       "version_minor": 0
      },
      "text/plain": [
       "interactive(children=(FloatSlider(value=0.0, description='effort', max=1.0, min=-1.0), IntSlider(value=0, desc…"
      ]
     },
     "metadata": {},
     "output_type": "display_data"
    }
   ],
   "source": [
    "@interact(rotation = (-1.0, 1.0, 0.1))\n",
    "def rotate(rotation):\n",
    "    platform.rotate(rotation)\n",
    "    \n",
    "@interact(effort = (-1.0, 1.0, 0.1), angle_deg = (-180,180,10))\n",
    "def translate(effort, angle_deg):\n",
    "    angle_rad = angle_deg * math.pi/180.0\n",
    "    platform.translate(angle_rad = angle_rad, effort = effort)\n"
   ]
  }
 ],
 "metadata": {
  "kernelspec": {
   "display_name": "Python 3",
   "language": "python",
   "name": "python3"
  },
  "language_info": {
   "codemirror_mode": {
    "name": "ipython",
    "version": 3
   },
   "file_extension": ".py",
   "mimetype": "text/x-python",
   "name": "python",
   "nbconvert_exporter": "python",
   "pygments_lexer": "ipython3",
   "version": "3.6.9"
  }
 },
 "nbformat": 4,
 "nbformat_minor": 5
}
