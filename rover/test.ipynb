{
 "cells": [
  {
   "cell_type": "code",
   "execution_count": 2,
   "id": "32ea0ac5",
   "metadata": {
    "scrolled": true
   },
   "outputs": [
    {
     "name": "stdout",
     "output_type": "stream",
     "text": [
      "constructed motor\n",
      "constructed motor\n",
      "constructed motor\n",
      "constructed motor\n",
      "constructed platform\n"
     ]
    }
   ],
   "source": [
    "import time\n",
    "import math\n",
    "import mecanum_platform as pf\n",
    "from ipywidgets import interact, interactive, fixed, interact_manual\n",
    "import ipywidgets as widgets\n",
    "\n",
    "platform = pf.MecanumPlatform()"
   ]
  },
  {
   "cell_type": "code",
   "execution_count": 3,
   "id": "ac1cc2fc",
   "metadata": {},
   "outputs": [
    {
     "data": {
      "application/vnd.jupyter.widget-view+json": {
       "model_id": "3437e34cf2334b7f999e217957b86be0",
       "version_major": 2,
       "version_minor": 0
      },
      "text/plain": [
       "interactive(children=(FloatSlider(value=0.0, description='rotational_effort', max=1.0, min=-1.0), FloatSlider(…"
      ]
     },
     "metadata": {},
     "output_type": "display_data"
    }
   ],
   "source": [
    "@interact(rotational_effort = (-1.0, 1.0, 0.1), linear_x = (-1.0, 1.0, 0.1), linear_y = (-1.0,1.0,0.1))\n",
    "def move(rotational_effort, linear_x, linear_y):\n",
    "    \n",
    "    effort = pf.MotionEffort(linear_x = linear_x, linear_y = linear_y, rotational_z = rotational_effort)\n",
    "    platform.twist(effort)\n",
    "    \n",
    "    \n",
    "\n"
   ]
  }
 ],
 "metadata": {
  "kernelspec": {
   "display_name": "Python 3",
   "language": "python",
   "name": "python3"
  },
  "language_info": {
   "codemirror_mode": {
    "name": "ipython",
    "version": 3
   },
   "file_extension": ".py",
   "mimetype": "text/x-python",
   "name": "python",
   "nbconvert_exporter": "python",
   "pygments_lexer": "ipython3",
   "version": "3.6.9"
  }
 },
 "nbformat": 4,
 "nbformat_minor": 5
}
